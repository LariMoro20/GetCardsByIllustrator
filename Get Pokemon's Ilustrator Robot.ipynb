{
 "cells": [
  {
   "cell_type": "code",
   "execution_count": 1,
   "id": "f5506e78",
   "metadata": {},
   "outputs": [],
   "source": [
    "# Projeto: Buscar lista de cards do ilustrador e exportar csv\n",
    "\n",
    "# 1 - Acessar site fonte\n",
    "# 2 - Realizar pesquisa\n",
    "# 3 - Capturar e tratar dados\n",
    "# 4 - Salvar dados em CSV\n",
    "\n",
    "#!pip install html5lib"
   ]
  },
  {
   "cell_type": "code",
   "execution_count": 2,
   "id": "de87ad62",
   "metadata": {},
   "outputs": [],
   "source": [
    "import time\n",
    "import pandas as pd\n",
    "from selenium import webdriver\n",
    "from selenium.webdriver.firefox.options import Options\n",
    "\n",
    "#1: Abrir navegador\n",
    "options = Options()\n",
    "options.binary_location = r'C:\\Program Files\\Mozilla Firefox\\firefox.exe' # -> substituir pelo caminho do seu computador\n",
    "driver = webdriver.Firefox(options=options)\n",
    "\n"
   ]
  },
  {
   "cell_type": "code",
   "execution_count": 3,
   "id": "b835b958",
   "metadata": {},
   "outputs": [
    {
     "name": "stdout",
     "output_type": "stream",
     "text": [
      "Qual o nome do ilustrador?sowsow\n"
     ]
    }
   ],
   "source": [
    "# 2 - Realizar pesquisa\n",
    "# exemplo: sowsow | asako ito\n",
    "search_text = input(\"Qual o nome do ilustrador?\")\n",
    "driver.get(\"https://www.serebii.net\")\n",
    "\n",
    "pesquisa = driver.find_element('xpath','/html/body/header/nav/ul/li[10]/form/input[3]').send_keys(search_text)\n",
    "driver.find_element('xpath','/html/body/header/nav/ul/li[10]/form/input[4]').click()\n",
    "\n",
    "driver.find_element('xpath','/html/body/div[1]/div[2]/main/div/div/div/div/div/div[5]/div[2]/div/div/div[1]/div[1]/div[1]/div[1]/div/a').click()"
   ]
  },
  {
   "cell_type": "code",
   "execution_count": 4,
   "id": "33dcf968",
   "metadata": {},
   "outputs": [],
   "source": [
    "# 3 - Capturar e tratar dados\n",
    "time.sleep(2)\n",
    "driver.switch_to.window(driver.window_handles[1])\n",
    "pesquisa = driver.find_element('xpath','/html/body/header/nav/ul/li[10]/form/input[3]').send_keys('achei to  na new')\n",
    "\n",
    "page = driver.current_url\n",
    "table = driver.find_element('xpath','/html/body/div[1]/div[2]/main/table')\n",
    "\n",
    "pd.set_option('display.max_colwidth', None)\n",
    "table_result = pd.read_html(page, header=0)[1]\n",
    "table_export = table_result.drop(\"Picture\", axis=1)"
   ]
  },
  {
   "cell_type": "code",
   "execution_count": 5,
   "id": "e56cb755",
   "metadata": {},
   "outputs": [],
   "source": [
    "# 4 - Salvar dados em CSV\n",
    "\n",
    "title = \"results_\"+search_text.replace(\" \", \"_\")+\".xlsx\"\n",
    "table_export.to_excel(title, index=False)"
   ]
  },
  {
   "cell_type": "code",
   "execution_count": null,
   "id": "812322e1",
   "metadata": {},
   "outputs": [],
   "source": []
  }
 ],
 "metadata": {
  "kernelspec": {
   "display_name": "Python 3 (ipykernel)",
   "language": "python",
   "name": "python3"
  },
  "language_info": {
   "codemirror_mode": {
    "name": "ipython",
    "version": 3
   },
   "file_extension": ".py",
   "mimetype": "text/x-python",
   "name": "python",
   "nbconvert_exporter": "python",
   "pygments_lexer": "ipython3",
   "version": "3.9.13"
  }
 },
 "nbformat": 4,
 "nbformat_minor": 5
}
